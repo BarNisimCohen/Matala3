{
 "cells": [
  {
   "cell_type": "markdown",
   "id": "746984ad-019e-4165-9fee-c04f112a89e1",
   "metadata": {},
   "source": [
    "### Matala 3"
   ]
  },
  {
   "cell_type": "markdown",
   "id": "777ed025-e7c5-4c2b-9c21-0fbd042ef7d2",
   "metadata": {},
   "source": [
    "## Part A"
   ]
  },
  {
   "cell_type": "code",
   "execution_count": 1,
   "id": "b0fedfcd-cb9f-41db-9020-66a7219499be",
   "metadata": {},
   "outputs": [],
   "source": [
    "# function to convert miles to km\n",
    "def convert_distance(distance):\n",
    "    miles1 = distance.replace(\"mi\", \"\")  # remove 'mi' from string\n",
    "    miles2 = miles1.replace(',', '')  # remove the comma\n",
    "    miles3 = float(miles2)  # convert to float\n",
    "    distance_km = miles3 * 1.6  # approximately 1.6 km in 1 mile\n",
    "    return distance_km"
   ]
  },
  {
   "cell_type": "code",
   "execution_count": 2,
   "id": "83f36293-5b77-48c8-b2ba-a7635d76bd43",
   "metadata": {},
   "outputs": [],
   "source": [
    "import pandas as pd\n",
    "import requests\n",
    "api_key = 'put your api key' #running the program and deleted mi api key ,as said in cless\n",
    "start_address=\"Tel Aviv\"\n",
    "Target=[]\n",
    "Distance_km=[]\n",
    "Duration=[]\n",
    "dests=open(\"dests.txt\",\"r\")\n",
    "destination=\" \"\n",
    "for d in dests:\n",
    "    destination=d\n",
    "    url=\"https://maps.googleapis.com/maps/api/distancematrix/json?units=imperial&\"\n",
    "    r=requests.get(url + \"origins=\" + start_address + \"&destinations=\" + destination + \"&key=\" + api_key)\n",
    "    duration= r.json()[\"rows\"][0][\"elements\"][0][\"duration\"][\"text\"]\n",
    "    distance_miles=r.json()[\"rows\"][0][\"elements\"][0][\"distance\"][\"text\"]\n",
    "    Target.append(d)\n",
    "    Duration.append(duration)\n",
    "    Distance_km.append(convert_distance(distance_miles))"
   ]
  },
  {
   "cell_type": "code",
   "execution_count": 3,
   "id": "547e48a2-13e6-48cb-b464-599a44b7c9b7",
   "metadata": {},
   "outputs": [
    {
     "data": {
      "text/html": [
       "<div>\n",
       "<style scoped>\n",
       "    .dataframe tbody tr th:only-of-type {\n",
       "        vertical-align: middle;\n",
       "    }\n",
       "\n",
       "    .dataframe tbody tr th {\n",
       "        vertical-align: top;\n",
       "    }\n",
       "\n",
       "    .dataframe thead th {\n",
       "        text-align: right;\n",
       "    }\n",
       "</style>\n",
       "<table border=\"1\" class=\"dataframe\">\n",
       "  <thead>\n",
       "    <tr style=\"text-align: right;\">\n",
       "      <th></th>\n",
       "      <th>Target</th>\n",
       "      <th>Distance_km</th>\n",
       "      <th>Duration (hour+minutes)</th>\n",
       "    </tr>\n",
       "  </thead>\n",
       "  <tbody>\n",
       "    <tr>\n",
       "      <th>0</th>\n",
       "      <td>Istanbul\\n</td>\n",
       "      <td>1804.8</td>\n",
       "      <td>21 hours 3 mins</td>\n",
       "    </tr>\n",
       "    <tr>\n",
       "      <th>1</th>\n",
       "      <td>Amsterdam\\n</td>\n",
       "      <td>4505.6</td>\n",
       "      <td>2 days 0 hours</td>\n",
       "    </tr>\n",
       "    <tr>\n",
       "      <th>2</th>\n",
       "      <td>Valletta\\n</td>\n",
       "      <td>3771.2</td>\n",
       "      <td>2 days 3 hours</td>\n",
       "    </tr>\n",
       "    <tr>\n",
       "      <th>3</th>\n",
       "      <td>Basel\\n</td>\n",
       "      <td>4070.4</td>\n",
       "      <td>1 day 20 hours</td>\n",
       "    </tr>\n",
       "    <tr>\n",
       "      <th>4</th>\n",
       "      <td>Doha</td>\n",
       "      <td>2152.0</td>\n",
       "      <td>22 hours 39 mins</td>\n",
       "    </tr>\n",
       "  </tbody>\n",
       "</table>\n",
       "</div>"
      ],
      "text/plain": [
       "        Target  Distance_km Duration (hour+minutes)\n",
       "0   Istanbul\\n       1804.8         21 hours 3 mins\n",
       "1  Amsterdam\\n       4505.6          2 days 0 hours\n",
       "2   Valletta\\n       3771.2          2 days 3 hours\n",
       "3      Basel\\n       4070.4          1 day 20 hours\n",
       "4         Doha       2152.0        22 hours 39 mins"
      ]
     },
     "execution_count": 3,
     "metadata": {},
     "output_type": "execute_result"
    }
   ],
   "source": [
    "df = pd.DataFrame({'Target': Target, 'Distance_km': Distance_km, 'Duration (hour+minutes)':Duration })\n",
    "df"
   ]
  },
  {
   "cell_type": "markdown",
   "id": "155ab19f-9f66-4e83-83a3-72869a17a46c",
   "metadata": {},
   "source": [
    "## Part B"
   ]
  },
  {
   "cell_type": "code",
   "execution_count": 4,
   "id": "d7db45a3-281d-45d7-872e-ba9e7f0ba0c7",
   "metadata": {},
   "outputs": [],
   "source": [
    "def get_lat_lng(address_string):\n",
    "    import requests\n",
    "    url=\"https://maps.googleapis.com/maps/api/geocode/json?address=%s&key=%s\" % (address_string,api_key)\n",
    "    response = requests.get(url)\n",
    "    response_data = response.json()\n",
    "    return(response_data['results'][0]['geometry']['location'])"
   ]
  },
  {
   "cell_type": "code",
   "execution_count": 5,
   "id": "8e868978-68ab-49f2-9edc-546d0c060991",
   "metadata": {},
   "outputs": [],
   "source": [
    "Longitude=[]\n",
    "latitude=[]\n",
    "dests=open(\"dests.txt\",\"r\")\n",
    "for d in dests:\n",
    "    Longitude.append(get_lat_lng(d)['lng'])\n",
    "    latitude.append(get_lat_lng(d)['lat'])"
   ]
  },
  {
   "cell_type": "code",
   "execution_count": 6,
   "id": "8308179e-46f3-4e93-a6f7-b05558ae5917",
   "metadata": {},
   "outputs": [
    {
     "data": {
      "text/html": [
       "<div>\n",
       "<style scoped>\n",
       "    .dataframe tbody tr th:only-of-type {\n",
       "        vertical-align: middle;\n",
       "    }\n",
       "\n",
       "    .dataframe tbody tr th {\n",
       "        vertical-align: top;\n",
       "    }\n",
       "\n",
       "    .dataframe thead th {\n",
       "        text-align: right;\n",
       "    }\n",
       "</style>\n",
       "<table border=\"1\" class=\"dataframe\">\n",
       "  <thead>\n",
       "    <tr style=\"text-align: right;\">\n",
       "      <th></th>\n",
       "      <th>Target</th>\n",
       "      <th>Distance_km</th>\n",
       "      <th>Duration (hour+minutes)</th>\n",
       "      <th>Longitude</th>\n",
       "      <th>latitude</th>\n",
       "    </tr>\n",
       "  </thead>\n",
       "  <tbody>\n",
       "    <tr>\n",
       "      <th>0</th>\n",
       "      <td>Istanbul\\n</td>\n",
       "      <td>1804.8</td>\n",
       "      <td>21 hours 3 mins</td>\n",
       "      <td>28.978359</td>\n",
       "      <td>41.008238</td>\n",
       "    </tr>\n",
       "    <tr>\n",
       "      <th>1</th>\n",
       "      <td>Amsterdam\\n</td>\n",
       "      <td>4505.6</td>\n",
       "      <td>2 days 0 hours</td>\n",
       "      <td>4.904139</td>\n",
       "      <td>52.367573</td>\n",
       "    </tr>\n",
       "    <tr>\n",
       "      <th>2</th>\n",
       "      <td>Valletta\\n</td>\n",
       "      <td>3771.2</td>\n",
       "      <td>2 days 3 hours</td>\n",
       "      <td>14.514100</td>\n",
       "      <td>35.899237</td>\n",
       "    </tr>\n",
       "    <tr>\n",
       "      <th>3</th>\n",
       "      <td>Basel\\n</td>\n",
       "      <td>4070.4</td>\n",
       "      <td>1 day 20 hours</td>\n",
       "      <td>7.588576</td>\n",
       "      <td>47.559599</td>\n",
       "    </tr>\n",
       "    <tr>\n",
       "      <th>4</th>\n",
       "      <td>Doha</td>\n",
       "      <td>2152.0</td>\n",
       "      <td>22 hours 39 mins</td>\n",
       "      <td>51.531040</td>\n",
       "      <td>25.285447</td>\n",
       "    </tr>\n",
       "  </tbody>\n",
       "</table>\n",
       "</div>"
      ],
      "text/plain": [
       "        Target  Distance_km Duration (hour+minutes)  Longitude   latitude\n",
       "0   Istanbul\\n       1804.8         21 hours 3 mins  28.978359  41.008238\n",
       "1  Amsterdam\\n       4505.6          2 days 0 hours   4.904139  52.367573\n",
       "2   Valletta\\n       3771.2          2 days 3 hours  14.514100  35.899237\n",
       "3      Basel\\n       4070.4          1 day 20 hours   7.588576  47.559599\n",
       "4         Doha       2152.0        22 hours 39 mins  51.531040  25.285447"
      ]
     },
     "execution_count": 6,
     "metadata": {},
     "output_type": "execute_result"
    }
   ],
   "source": [
    "df[\"Longitude\"]=Longitude\n",
    "df[\"latitude\"]=latitude\n",
    "df"
   ]
  },
  {
   "cell_type": "markdown",
   "id": "a90b905f-460d-433b-8af0-4bfbba3c91c9",
   "metadata": {},
   "source": [
    "### 3 cities furthest from Tel Aviv"
   ]
  },
  {
   "cell_type": "code",
   "execution_count": 7,
   "id": "2df88a28-40b9-4f6f-99bf-848b309d0f8d",
   "metadata": {},
   "outputs": [
    {
     "data": {
      "text/html": [
       "<div>\n",
       "<style scoped>\n",
       "    .dataframe tbody tr th:only-of-type {\n",
       "        vertical-align: middle;\n",
       "    }\n",
       "\n",
       "    .dataframe tbody tr th {\n",
       "        vertical-align: top;\n",
       "    }\n",
       "\n",
       "    .dataframe thead th {\n",
       "        text-align: right;\n",
       "    }\n",
       "</style>\n",
       "<table border=\"1\" class=\"dataframe\">\n",
       "  <thead>\n",
       "    <tr style=\"text-align: right;\">\n",
       "      <th></th>\n",
       "      <th>Target</th>\n",
       "      <th>Distance_km</th>\n",
       "      <th>Duration (hour+minutes)</th>\n",
       "      <th>Longitude</th>\n",
       "      <th>latitude</th>\n",
       "    </tr>\n",
       "  </thead>\n",
       "  <tbody>\n",
       "    <tr>\n",
       "      <th>1</th>\n",
       "      <td>Amsterdam\\n</td>\n",
       "      <td>4505.6</td>\n",
       "      <td>2 days 0 hours</td>\n",
       "      <td>4.904139</td>\n",
       "      <td>52.367573</td>\n",
       "    </tr>\n",
       "    <tr>\n",
       "      <th>3</th>\n",
       "      <td>Basel\\n</td>\n",
       "      <td>4070.4</td>\n",
       "      <td>1 day 20 hours</td>\n",
       "      <td>7.588576</td>\n",
       "      <td>47.559599</td>\n",
       "    </tr>\n",
       "    <tr>\n",
       "      <th>2</th>\n",
       "      <td>Valletta\\n</td>\n",
       "      <td>3771.2</td>\n",
       "      <td>2 days 3 hours</td>\n",
       "      <td>14.514100</td>\n",
       "      <td>35.899237</td>\n",
       "    </tr>\n",
       "  </tbody>\n",
       "</table>\n",
       "</div>"
      ],
      "text/plain": [
       "        Target  Distance_km Duration (hour+minutes)  Longitude   latitude\n",
       "1  Amsterdam\\n       4505.6          2 days 0 hours   4.904139  52.367573\n",
       "3      Basel\\n       4070.4          1 day 20 hours   7.588576  47.559599\n",
       "2   Valletta\\n       3771.2          2 days 3 hours  14.514100  35.899237"
      ]
     },
     "execution_count": 7,
     "metadata": {},
     "output_type": "execute_result"
    }
   ],
   "source": [
    "df_sorted = df.sort_values(['Distance_km'], ascending=False)\n",
    "df_sorted.head(3)"
   ]
  },
  {
   "cell_type": "code",
   "execution_count": 8,
   "id": "659914ef-5557-440b-a5d7-9e815cfbd6bc",
   "metadata": {},
   "outputs": [
    {
     "name": "stdout",
     "output_type": "stream",
     "text": [
      "The three cities farthest from Tel Aviv are:\n",
      " 1    Amsterdam\\n\n",
      "3        Basel\\n\n",
      "2     Valletta\\n\n",
      "Name: Target, dtype: object\n"
     ]
    }
   ],
   "source": [
    "print(\"The three cities farthest from Tel Aviv are:\\n\", df_sorted[\"Target\"].head(3))"
   ]
  },
  {
   "cell_type": "code",
   "execution_count": null,
   "id": "88215e0f-60bd-41b5-b267-e84c1868e51f",
   "metadata": {},
   "outputs": [],
   "source": []
  }
 ],
 "metadata": {
  "kernelspec": {
   "display_name": "Python 3 (ipykernel)",
   "language": "python",
   "name": "python3"
  },
  "language_info": {
   "codemirror_mode": {
    "name": "ipython",
    "version": 3
   },
   "file_extension": ".py",
   "mimetype": "text/x-python",
   "name": "python",
   "nbconvert_exporter": "python",
   "pygments_lexer": "ipython3",
   "version": "3.9.13"
  }
 },
 "nbformat": 4,
 "nbformat_minor": 5
}
